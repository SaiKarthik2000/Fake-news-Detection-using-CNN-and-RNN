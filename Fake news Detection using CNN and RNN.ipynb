{
  "cells": [
    {
      "metadata": {
        "_uuid": "8f2839f25d086af736a60e9eeb907d3b93b6e0e5",
        "_cell_guid": "b1076dfc-b9ad-4769-8c92-a6c4dae69d19",
        "trusted": true,
        "id": "QMdwTASKjc1o"
      },
      "cell_type": "code",
      "source": [
        "import pandas as pd \n",
        "import matplotlib.pyplot as plt \n",
        "import numpy as np \n",
        "import tensorflow as tf \n",
        "import re \n",
        "from tensorflow.keras.preprocessing.text import Tokenizer\n",
        "import tensorflow as tf\n",
        "from sklearn.ensemble import RandomForestClassifier, AdaBoostClassifier, BaggingClassifier\n",
        "from sklearn.metrics import accuracy_score\n",
        "from sklearn.model_selection import train_test_split\n",
        "from sklearn.linear_model import LogisticRegression\n",
        "from sklearn.neighbors import KNeighborsClassifier\n",
        "from sklearn.metrics import accuracy_score, confusion_matrix, precision_score, recall_score\n",
        "import seaborn as sns \n",
        "plt.style.use('ggplot')"
      ],
      "execution_count": null,
      "outputs": []
    },
    {
      "metadata": {
        "id": "4XofNGq2jc1p"
      },
      "cell_type": "markdown",
      "source": [
        "Read the data "
      ]
    },
    {
      "cell_type": "code",
      "source": [
        "from google.colab import drive\n",
        "drive.mount('/content/drive')"
      ],
      "metadata": {
        "colab": {
          "base_uri": "https://localhost:8080/"
        },
        "id": "LN_LdY1gjkWe",
        "outputId": "86d6c233-0a37-41ac-a1dc-5ef2ce1a16b2"
      },
      "execution_count": null,
      "outputs": [
        {
          "output_type": "stream",
          "name": "stdout",
          "text": [
            "Mounted at /content/drive\n"
          ]
        }
      ]
    },
    {
      "metadata": {
        "_uuid": "d629ff2d2480ee46fbb7e2d37f6b5fab8052498a",
        "_cell_guid": "79c7e3d0-c299-4dcb-8224-4455121ee9b0",
        "trusted": true,
        "id": "9mSYcc-qjc1q"
      },
      "cell_type": "code",
      "source": [
        "fake_df = pd.read_csv('/content/drive/MyDrive/sem 8/DL/ISOT-Fake.csv')\n",
        "real_df = pd.read_csv('/content/drive/MyDrive/sem 8/DL/ISOT-True.csv')"
      ],
      "execution_count": null,
      "outputs": []
    },
    {
      "metadata": {
        "id": "H8_mpbOcjc1q"
      },
      "cell_type": "markdown",
      "source": [
        "Checking for null values "
      ]
    },
    {
      "metadata": {
        "trusted": true,
        "colab": {
          "base_uri": "https://localhost:8080/"
        },
        "id": "2jWDF3xejc1q",
        "outputId": "31b9adfd-6fbb-4262-a97c-68ae786294c4"
      },
      "cell_type": "code",
      "source": [
        "fake_df.isnull().sum()"
      ],
      "execution_count": null,
      "outputs": [
        {
          "output_type": "execute_result",
          "data": {
            "text/plain": [
              "title      0\n",
              "text       0\n",
              "subject    0\n",
              "date       0\n",
              "dtype: int64"
            ]
          },
          "metadata": {},
          "execution_count": 4
        }
      ]
    },
    {
      "metadata": {
        "trusted": true,
        "colab": {
          "base_uri": "https://localhost:8080/"
        },
        "id": "P13fbcOfjc1r",
        "outputId": "fc7b825e-7ebb-4449-f4f6-fe8b8bfadab0"
      },
      "cell_type": "code",
      "source": [
        "real_df.isnull().sum()"
      ],
      "execution_count": null,
      "outputs": [
        {
          "output_type": "execute_result",
          "data": {
            "text/plain": [
              "title      0\n",
              "text       0\n",
              "subject    0\n",
              "date       0\n",
              "dtype: int64"
            ]
          },
          "metadata": {},
          "execution_count": 5
        }
      ]
    },
    {
      "metadata": {
        "id": "1lQRF5Sdjc1r"
      },
      "cell_type": "markdown",
      "source": [
        "Checking for unique values for subject. We want both data frames to have a similar distribution."
      ]
    },
    {
      "metadata": {
        "trusted": true,
        "colab": {
          "base_uri": "https://localhost:8080/"
        },
        "id": "wSVRPub8jc1s",
        "outputId": "7053aa44-c4f5-4ea5-fca0-5d2179e7294e"
      },
      "cell_type": "code",
      "source": [
        "fake_df.subject.unique()"
      ],
      "execution_count": null,
      "outputs": [
        {
          "output_type": "execute_result",
          "data": {
            "text/plain": [
              "array(['News', 'politics', 'Government News', 'left-news', 'US_News',\n",
              "       'Middle-east'], dtype=object)"
            ]
          },
          "metadata": {},
          "execution_count": 6
        }
      ]
    },
    {
      "metadata": {
        "trusted": true,
        "colab": {
          "base_uri": "https://localhost:8080/"
        },
        "id": "Y2ELhdK6jc1s",
        "outputId": "b2d79e48-1286-47e7-c874-0a04f45c7404"
      },
      "cell_type": "code",
      "source": [
        "real_df.subject.unique()"
      ],
      "execution_count": null,
      "outputs": [
        {
          "output_type": "execute_result",
          "data": {
            "text/plain": [
              "array(['politicsNews', 'worldnews'], dtype=object)"
            ]
          },
          "metadata": {},
          "execution_count": 7
        }
      ]
    },
    {
      "metadata": {
        "id": "u2LpmbGMjc1s"
      },
      "cell_type": "markdown",
      "source": [
        "Drop the date from the dataset, I don't think there is a strong correlation between date and validity of the news. As we see above, subjects are not distributed evenly. We do not want that to influence the accuracy of our classifier. Therefore, we need to drop that as well. "
      ]
    },
    {
      "metadata": {
        "trusted": true,
        "id": "Iadx5hWxjc1t"
      },
      "cell_type": "code",
      "source": [
        "fake_df.drop(['date', 'subject'], axis=1, inplace=True)\n",
        "real_df.drop(['date', 'subject'], axis=1, inplace=True)"
      ],
      "execution_count": null,
      "outputs": []
    },
    {
      "metadata": {
        "id": "3xHvAeIxjc1t"
      },
      "cell_type": "markdown",
      "source": [
        "0 for fake news, and 1 for real news"
      ]
    },
    {
      "metadata": {
        "trusted": true,
        "id": "_2KWIFYWjc1t"
      },
      "cell_type": "code",
      "source": [
        "fake_df['class'] = 0 \n",
        "real_df['class'] = 1"
      ],
      "execution_count": null,
      "outputs": []
    },
    {
      "metadata": {
        "id": "4KdKdqFWjc1t"
      },
      "cell_type": "markdown",
      "source": [
        "Check out the distribution of fake news compare to real news"
      ]
    },
    {
      "metadata": {
        "trusted": true,
        "colab": {
          "base_uri": "https://localhost:8080/",
          "height": 375
        },
        "id": "HcD8xCQfjc1t",
        "outputId": "a9d462d9-c388-4d33-a22b-c3824720985c"
      },
      "cell_type": "code",
      "source": [
        "plt.figure(figsize=(10, 5))\n",
        "plt.bar('Fake News', len(fake_df), color='orange')\n",
        "plt.bar('Real News', len(real_df), color='green')\n",
        "plt.title('Distribution of Fake News and Real News', size=15)\n",
        "plt.xlabel('News Type', size=15)\n",
        "plt.ylabel('# of News Articles', size=15)"
      ],
      "execution_count": null,
      "outputs": [
        {
          "output_type": "execute_result",
          "data": {
            "text/plain": [
              "Text(0, 0.5, '# of News Articles')"
            ]
          },
          "metadata": {},
          "execution_count": 10
        },
        {
          "output_type": "display_data",
          "data": {
            "text/plain": [
              "<Figure size 720x360 with 1 Axes>"
            ],
            "image/png": "[encoded data removed]"
          },
          "metadata": {}
        }
      ]
    },
    {
      "metadata": {
        "trusted": true,
        "colab": {
          "base_uri": "https://localhost:8080/"
        },
        "id": "CZrV_9sQjc1u",
        "outputId": "33f02a0f-5ccc-4428-9af6-432bfd57bf5d"
      },
      "cell_type": "code",
      "source": [
        "print('Difference in news articles:',len(fake_df)-len(real_df))"
      ],
      "execution_count": null,
      "outputs": [
        {
          "output_type": "stream",
          "name": "stdout",
          "text": [
            "Difference in news articles: 2064\n"
          ]
        }
      ]
    },
    {
      "metadata": {
        "trusted": true,
        "colab": {
          "base_uri": "https://localhost:8080/",
          "height": 424
        },
        "id": "0llUaasEjc1u",
        "outputId": "51939d87-519d-4483-e831-6e70b1f9a744"
      },
      "cell_type": "code",
      "source": [
        "news_df = pd.concat([fake_df, real_df], ignore_index=True, sort=False)\n",
        "news_df"
      ],
      "execution_count": null,
      "outputs": [
        {
          "output_type": "execute_result",
          "data": {
            "text/plain": [
              "                                                   title  \\\n",
              "0       Donald Trump Sends Out Embarrassing New Year’...   \n",
              "1       Drunk Bragging Trump Staffer Started Russian ...   \n",
              "2       Sheriff David Clarke Becomes An Internet Joke...   \n",
              "3       Trump Is So Obsessed He Even Has Obama’s Name...   \n",
              "4       Pope Francis Just Called Out Donald Trump Dur...   \n",
              "...                                                  ...   \n",
              "44893  'Fully committed' NATO backs new U.S. approach...   \n",
              "44894  LexisNexis withdrew two products from Chinese ...   \n",
              "44895  Minsk cultural hub becomes haven from authorities   \n",
              "44896  Vatican upbeat on possibility of Pope Francis ...   \n",
              "44897  Indonesia to buy $1.14 billion worth of Russia...   \n",
              "\n",
              "                                                    text  class  \n",
              "0      Donald Trump just couldn t wish all Americans ...      0  \n",
              "1      House Intelligence Committee Chairman Devin Nu...      0  \n",
              "2      On Friday, it was revealed that former Milwauk...      0  \n",
              "3      On Christmas day, Donald Trump announced that ...      0  \n",
              "4      Pope Francis used his annual Christmas Day mes...      0  \n",
              "...                                                  ...    ...  \n",
              "44893  BRUSSELS (Reuters) - NATO allies on Tuesday we...      1  \n",
              "44894  LONDON (Reuters) - LexisNexis, a provider of l...      1  \n",
              "44895  MINSK (Reuters) - In the shadow of disused Sov...      1  \n",
              "44896  MOSCOW (Reuters) - Vatican Secretary of State ...      1  \n",
              "44897  JAKARTA (Reuters) - Indonesia will buy 11 Sukh...      1  \n",
              "\n",
              "[44898 rows x 3 columns]"
            ],
            "text/html": [
              "\n",
              "  <div id=\"df-90fbbbd9-b431-4bac-b2d7-e0acfaca021f\">\n",
              "    <div class=\"colab-df-container\">\n",
              "      <div>\n",
              "<style scoped>\n",
              "    .dataframe tbody tr th:only-of-type {\n",
              "        vertical-align: middle;\n",
              "    }\n",
              "\n",
              "    .dataframe tbody tr th {\n",
              "        vertical-align: top;\n",
              "    }\n",
              "\n",
              "    .dataframe thead th {\n",
              "        text-align: right;\n",
              "    }\n",
              "</style>\n",
              "<table border=\"1\" class=\"dataframe\">\n",
              "  <thead>\n",
              "    <tr style=\"text-align: right;\">\n",
              "      <th></th>\n",
              "      <th>title</th>\n",
              "      <th>text</th>\n",
              "      <th>class</th>\n",
              "    </tr>\n",
              "  </thead>\n",
              "  <tbody>\n",
              "    <tr>\n",
              "      <th>0</th>\n",
              "      <td>Donald Trump Sends Out Embarrassing New Year’...</td>\n",
              "      <td>Donald Trump just couldn t wish all Americans ...</td>\n",
              "      <td>0</td>\n",
              "    </tr>\n",
              "    <tr>\n",
              "      <th>1</th>\n",
              "      <td>Drunk Bragging Trump Staffer Started Russian ...</td>\n",
              "      <td>House Intelligence Committee Chairman Devin Nu...</td>\n",
              "      <td>0</td>\n",
              "    </tr>\n",
              "    <tr>\n",
              "      <th>2</th>\n",
              "      <td>Sheriff David Clarke Becomes An Internet Joke...</td>\n",
              "      <td>On Friday, it was revealed that former Milwauk...</td>\n",
              "      <td>0</td>\n",
              "    </tr>\n",
              "    <tr>\n",
              "      <th>3</th>\n",
              "      <td>Trump Is So Obsessed He Even Has Obama’s Name...</td>\n",
              "      <td>On Christmas day, Donald Trump announced that ...</td>\n",
              "      <td>0</td>\n",
              "    </tr>\n",
              "    <tr>\n",
              "      <th>4</th>\n",
              "      <td>Pope Francis Just Called Out Donald Trump Dur...</td>\n",
              "      <td>Pope Francis used his annual Christmas Day mes...</td>\n",
              "      <td>0</td>\n",
              "    </tr>\n",
              "    <tr>\n",
              "      <th>...</th>\n",
              "      <td>...</td>\n",
              "      <td>...</td>\n",
              "      <td>...</td>\n",
              "    </tr>\n",
              "    <tr>\n",
              "      <th>44893</th>\n",
              "      <td>'Fully committed' NATO backs new U.S. approach...</td>\n",
              "      <td>BRUSSELS (Reuters) - NATO allies on Tuesday we...</td>\n",
              "      <td>1</td>\n",
              "    </tr>\n",
              "    <tr>\n",
              "      <th>44894</th>\n",
              "      <td>LexisNexis withdrew two products from Chinese ...</td>\n",
              "      <td>LONDON (Reuters) - LexisNexis, a provider of l...</td>\n",
              "      <td>1</td>\n",
              "    </tr>\n",
              "    <tr>\n",
              "      <th>44895</th>\n",
              "      <td>Minsk cultural hub becomes haven from authorities</td>\n",
              "      <td>MINSK (Reuters) - In the shadow of disused Sov...</td>\n",
              "      <td>1</td>\n",
              "    </tr>\n",
              "    <tr>\n",
              "      <th>44896</th>\n",
              "      <td>Vatican upbeat on possibility of Pope Francis ...</td>\n",
              "      <td>MOSCOW (Reuters) - Vatican Secretary of State ...</td>\n",
              "      <td>1</td>\n",
              "    </tr>\n",
              "    <tr>\n",
              "      <th>44897</th>\n",
              "      <td>Indonesia to buy $1.14 billion worth of Russia...</td>\n",
              "      <td>JAKARTA (Reuters) - Indonesia will buy 11 Sukh...</td>\n",
              "      <td>1</td>\n",
              "    </tr>\n",
              "  </tbody>\n",
              "</table>\n",
              "<p>44898 rows × 3 columns</p>\n",
              "</div>\n",
              "      <button class=\"colab-df-convert\" onclick=\"convertToInteractive('df-90fbbbd9-b431-4bac-b2d7-e0acfaca021f')\"\n",
              "              title=\"Convert this dataframe to an interactive table.\"\n",
              "              style=\"display:none;\">\n",
              "        \n",
              "  <svg xmlns=\"http://www.w3.org/2000/svg\" height=\"24px\"viewBox=\"0 0 24 24\"\n",
              "       width=\"24px\">\n",
              "    <path d=\"M0 0h24v24H0V0z\" fill=\"none\"/>\n",
              "    <path d=\"M18.56 5.44l.94 2.06.94-2.06 2.06-.94-2.06-.94-.94-2.06-.94 2.06-2.06.94zm-11 1L8.5 8.5l.94-2.06 2.06-.94-2.06-.94L8.5 2.5l-.94 2.06-2.06.94zm10 10l.94 2.06.94-2.06 2.06-.94-2.06-.94-.94-2.06-.94 2.06-2.06.94z\"/><path d=\"M17.41 7.96l-1.37-1.37c-.4-.4-.92-.59-1.43-.59-.52 0-1.04.2-1.43.59L10.3 9.45l-7.72 7.72c-.78.78-.78 2.05 0 2.83L4 21.41c.39.39.9.59 1.41.59.51 0 1.02-.2 1.41-.59l7.78-7.78 2.81-2.81c.8-.78.8-2.07 0-2.86zM5.41 20L4 18.59l7.72-7.72 1.47 1.35L5.41 20z\"/>\n",
              "  </svg>\n",
              "      </button>\n",
              "      \n",
              "  <style>\n",
              "    .colab-df-container {\n",
              "      display:flex;\n",
              "      flex-wrap:wrap;\n",
              "      gap: 12px;\n",
              "    }\n",
              "\n",
              "    .colab-df-convert {\n",
              "      background-color: #E8F0FE;\n",
              "      border: none;\n",
              "      border-radius: 50%;\n",
              "      cursor: pointer;\n",
              "      display: none;\n",
              "      fill: #1967D2;\n",
              "      height: 32px;\n",
              "      padding: 0 0 0 0;\n",
              "      width: 32px;\n",
              "    }\n",
              "\n",
              "    .colab-df-convert:hover {\n",
              "      background-color: #E2EBFA;\n",
              "      box-shadow: 0px 1px 2px rgba(60, 64, 67, 0.3), 0px 1px 3px 1px rgba(60, 64, 67, 0.15);\n",
              "      fill: #174EA6;\n",
              "    }\n",
              "\n",
              "    [theme=dark] .colab-df-convert {\n",
              "      background-color: #3B4455;\n",
              "      fill: #D2E3FC;\n",
              "    }\n",
              "\n",
              "    [theme=dark] .colab-df-convert:hover {\n",
              "      background-color: #434B5C;\n",
              "      box-shadow: 0px 1px 3px 1px rgba(0, 0, 0, 0.15);\n",
              "      filter: drop-shadow(0px 1px 2px rgba(0, 0, 0, 0.3));\n",
              "      fill: #FFFFFF;\n",
              "    }\n",
              "  </style>\n",
              "\n",
              "      <script>\n",
              "        const buttonEl =\n",
              "          document.querySelector('#df-90fbbbd9-b431-4bac-b2d7-e0acfaca021f button.colab-df-convert');\n",
              "        buttonEl.style.display =\n",
              "          google.colab.kernel.accessAllowed ? 'block' : 'none';\n",
              "\n",
              "        async function convertToInteractive(key) {\n",
              "          const element = document.querySelector('#df-90fbbbd9-b431-4bac-b2d7-e0acfaca021f');\n",
              "          const dataTable =\n",
              "            await google.colab.kernel.invokeFunction('convertToInteractive',\n",
              "                                                     [key], {});\n",
              "          if (!dataTable) return;\n",
              "\n",
              "          const docLinkHtml = 'Like what you see? Visit the ' +\n",
              "            '<a target=\"_blank\" href=https://colab.research.google.com/notebooks/data_table.ipynb>data table notebook</a>'\n",
              "            + ' to learn more about interactive tables.';\n",
              "          element.innerHTML = '';\n",
              "          dataTable['output_type'] = 'display_data';\n",
              "          await google.colab.output.renderOutput(dataTable, element);\n",
              "          const docLink = document.createElement('div');\n",
              "          docLink.innerHTML = docLinkHtml;\n",
              "          element.appendChild(docLink);\n",
              "        }\n",
              "      </script>\n",
              "    </div>\n",
              "  </div>\n",
              "  "
            ]
          },
          "metadata": {},
          "execution_count": 12
        }
      ]
    },
    {
      "metadata": {
        "id": "UFWpyAIkjc1u"
      },
      "cell_type": "markdown",
      "source": [
        "Combining the title with the text, it is much easier to process this way. "
      ]
    },
    {
      "metadata": {
        "trusted": true,
        "id": "NuznuJrhjc1u"
      },
      "cell_type": "code",
      "source": [
        "news_df['text'] = news_df['title'] + news_df['text']\n",
        "news_df.drop('title', axis=1, inplace=True)"
      ],
      "execution_count": null,
      "outputs": []
    },
    {
      "metadata": {
        "id": "5tw_0q74jc1u"
      },
      "cell_type": "markdown",
      "source": [
        "Split into training and testing "
      ]
    },
    {
      "metadata": {
        "trusted": true,
        "id": "iwaTHpgXjc1v"
      },
      "cell_type": "code",
      "source": [
        "features = news_df['text']\n",
        "targets = news_df['class']\n",
        "\n",
        "X_train, X_test, y_train, y_test = train_test_split(features, targets, test_size=0.20, random_state=18)"
      ],
      "execution_count": null,
      "outputs": []
    },
    {
      "metadata": {
        "id": "5YhSIl4Kjc1v"
      },
      "cell_type": "markdown",
      "source": [
        "Normalizing our data: lower case, get rid of extra spaces, and url links. "
      ]
    },
    {
      "metadata": {
        "trusted": true,
        "id": "EKVd9YbSjc1v"
      },
      "cell_type": "code",
      "source": [
        "def normalize(data):\n",
        "    normalized = []\n",
        "    for i in data:\n",
        "        i = i.lower()\n",
        "        # get rid of urls\n",
        "        i = re.sub('https?://\\S+|www\\.\\S+', '', i)\n",
        "        # get rid of non words and extra spaces\n",
        "        i = re.sub('\\\\W', ' ', i)\n",
        "        i = re.sub('\\n', '', i)\n",
        "        i = re.sub(' +', ' ', i)\n",
        "        i = re.sub('^ ', '', i)\n",
        "        i = re.sub(' $', '', i)\n",
        "        normalized.append(i)\n",
        "    return normalized\n",
        "\n",
        "X_train = normalize(X_train)\n",
        "X_test = normalize(X_test)"
      ],
      "execution_count": null,
      "outputs": []
    },
    {
      "metadata": {
        "trusted": true,
        "id": "WWo0nfr4jc1v"
      },
      "cell_type": "code",
      "source": [
        "max_vocab = 10000\n",
        "tokenizer = Tokenizer(num_words=max_vocab)\n",
        "tokenizer.fit_on_texts(X_train)"
      ],
      "execution_count": null,
      "outputs": []
    },
    {
      "metadata": {
        "id": "fAvWaUIUjc1v"
      },
      "cell_type": "markdown",
      "source": [
        "Convert text to vectors, our classifier only takes numerical data. "
      ]
    },
    {
      "metadata": {
        "trusted": true,
        "id": "D8LzxVdQjc1w"
      },
      "cell_type": "code",
      "source": [
        "# tokenize the text into vectors \n",
        "X_train = tokenizer.texts_to_sequences(X_train)\n",
        "X_test = tokenizer.texts_to_sequences(X_test)"
      ],
      "execution_count": null,
      "outputs": []
    },
    {
      "metadata": {
        "id": "9DbRU4HJjc1w"
      },
      "cell_type": "markdown",
      "source": [
        "Apply padding so we have the same length for each article "
      ]
    },
    {
      "metadata": {
        "trusted": true,
        "id": "55moO0cHjc1w"
      },
      "cell_type": "code",
      "source": [
        "X_train = tf.keras.preprocessing.sequence.pad_sequences(X_train, padding='post', maxlen=300)\n",
        "X_test = tf.keras.preprocessing.sequence.pad_sequences(X_test, padding='post', maxlen=300)"
      ],
      "execution_count": null,
      "outputs": []
    },
    {
      "cell_type": "code",
      "source": [
        "x_train_ = X_train.copy()\n",
        "x_test_ = X_test.copy()"
      ],
      "metadata": {
        "colab": {
          "base_uri": "https://localhost:8080/"
        },
        "id": "2z3u9cFXGBph",
        "outputId": "b1bd38f8-5c15-4d62-b64a-be217d486113"
      },
      "execution_count": null,
      "outputs": [
        {
          "output_type": "stream",
          "name": "stdout",
          "text": [
            "<class 'numpy.ndarray'> <class 'numpy.ndarray'>\n"
          ]
        }
      ]
    },
    {
      "metadata": {
        "id": "cZF23d0ojc1w"
      },
      "cell_type": "markdown",
      "source": [
        "Building the RNN."
      ]
    },
    {
      "metadata": {
        "trusted": true,
        "id": "9AI2ec9Yjc1w",
        "outputId": "5d0e3903-6f50-451f-fba9-cb6906b701b6",
        "colab": {
          "base_uri": "https://localhost:8080/"
        }
      },
      "cell_type": "code",
      "source": [
        "model = tf.keras.Sequential([\n",
        "    tf.keras.layers.Embedding(max_vocab, 32),\n",
        "    tf.keras.layers.Conv1D(128,5),\n",
        "    tf.keras.layers.MaxPool1D(),\n",
        "    tf.keras.layers.LSTM(32),\n",
        "    tf.keras.layers.Dense(1, activation='sigmoid')\n",
        "])\n",
        "\n",
        "model.summary()"
      ],
      "execution_count": null,
      "outputs": [
        {
          "output_type": "stream",
          "name": "stdout",
          "text": [
            "Model: \"sequential_8\"\n",
            "_________________________________________________________________\n",
            " Layer (type)                Output Shape              Param #   \n",
            "=================================================================\n",
            " embedding_13 (Embedding)    (None, None, 32)          320000    \n",
            "                                                                 \n",
            " conv1d_7 (Conv1D)           (None, None, 128)         20608     \n",
            "                                                                 \n",
            " max_pooling1d_7 (MaxPooling  (None, None, 128)        0         \n",
            " 1D)                                                             \n",
            "                                                                 \n",
            " lstm_17 (LSTM)              (None, 32)                20608     \n",
            "                                                                 \n",
            " dense_16 (Dense)            (None, 1)                 33        \n",
            "                                                                 \n",
            "=================================================================\n",
            "Total params: 361,249\n",
            "Trainable params: 361,249\n",
            "Non-trainable params: 0\n",
            "_________________________________________________________________\n"
          ]
        }
      ]
    },
    {
      "metadata": {
        "id": "xRzJoVw0jc1w"
      },
      "cell_type": "markdown",
      "source": [
        "We are going to use early stop, which stops when the validation loss no longer improve."
      ]
    },
    {
      "metadata": {
        "trusted": true,
        "id": "FyN3wg13jc1x",
        "outputId": "0291a43d-077e-4d46-ef8d-d12b0d2d6e97",
        "colab": {
          "base_uri": "https://localhost:8080/"
        }
      },
      "cell_type": "code",
      "source": [
        "early_stop = tf.keras.callbacks.EarlyStopping(monitor='val_loss', patience=2, restore_best_weights=True)\n",
        "model.compile(loss=tf.keras.losses.BinaryCrossentropy(from_logits=True),\n",
        "              optimizer=tf.keras.optimizers.Adam(1e-4),\n",
        "              metrics=['accuracy'])\n",
        "\n",
        "history = model.fit(X_train, y_train, epochs=10,validation_split=0.1, batch_size=30, shuffle=True, callbacks=[early_stop])"
      ],
      "execution_count": null,
      "outputs": [
        {
          "output_type": "stream",
          "name": "stdout",
          "text": [
            "Epoch 1/10\n"
          ]
        },
        {
          "output_type": "stream",
          "name": "stderr",
          "text": [
            "/usr/local/lib/python3.9/dist-packages/keras/backend.py:5676: UserWarning: \"`binary_crossentropy` received `from_logits=True`, but the `output` argument was produced by a Sigmoid activation and thus does not represent logits. Was this intended?\n",
            "  output, from_logits = _get_logits(\n"
          ]
        },
        {
          "output_type": "stream",
          "name": "stdout",
          "text": [
            "1078/1078 [==============================] - 92s 84ms/step - loss: 0.3933 - accuracy: 0.8291 - val_loss: 0.1899 - val_accuracy: 0.9457\n",
            "Epoch 2/10\n",
            "1078/1078 [==============================] - 97s 90ms/step - loss: 0.1453 - accuracy: 0.9593 - val_loss: 0.1100 - val_accuracy: 0.9655\n",
            "Epoch 3/10\n",
            "1078/1078 [==============================] - 95s 88ms/step - loss: 0.0983 - accuracy: 0.9712 - val_loss: 0.0889 - val_accuracy: 0.9705\n",
            "Epoch 4/10\n",
            "1078/1078 [==============================] - 95s 88ms/step - loss: 0.1952 - accuracy: 0.9427 - val_loss: 0.0937 - val_accuracy: 0.9697\n",
            "Epoch 5/10\n",
            "1078/1078 [==============================] - 95s 88ms/step - loss: 0.0667 - accuracy: 0.9829 - val_loss: 0.0635 - val_accuracy: 0.9825\n",
            "Epoch 6/10\n",
            "1078/1078 [==============================] - 97s 90ms/step - loss: 0.0463 - accuracy: 0.9895 - val_loss: 0.0584 - val_accuracy: 0.9833\n",
            "Epoch 7/10\n",
            "1078/1078 [==============================] - 95s 88ms/step - loss: 0.0380 - accuracy: 0.9919 - val_loss: 0.0596 - val_accuracy: 0.9841\n",
            "Epoch 8/10\n",
            "1078/1078 [==============================] - 98s 91ms/step - loss: 0.0321 - accuracy: 0.9933 - val_loss: 0.0653 - val_accuracy: 0.9816\n"
          ]
        }
      ]
    },
    {
      "metadata": {
        "id": "mSR9BCbNjc1x"
      },
      "cell_type": "markdown",
      "source": [
        "Visualize our training over time "
      ]
    },
    {
      "metadata": {
        "trusted": true,
        "id": "DbXj4D74jc1x",
        "colab": {
          "base_uri": "https://localhost:8080/",
          "height": 1000
        },
        "outputId": "a5e77ead-dcf0-4d6a-b4da-1cc621e96fab"
      },
      "cell_type": "code",
      "source": [
        "history_dict = history.history\n",
        "\n",
        "acc = history_dict['accuracy']\n",
        "val_acc = history_dict['val_accuracy']\n",
        "loss = history_dict['loss']\n",
        "val_loss = history_dict['val_loss']\n",
        "epochs = history.epoch\n",
        "\n",
        "plt.figure(figsize=(12,9))\n",
        "plt.plot(epochs, loss, 'r', label='Training loss')\n",
        "plt.plot(epochs, val_loss, 'b', label='Validation loss')\n",
        "plt.title('Training and validation loss', size=20)\n",
        "plt.xlabel('Epochs', size=20)\n",
        "plt.ylabel('Loss', size=20)\n",
        "plt.legend(prop={'size': 20})\n",
        "plt.show()\n",
        "\n",
        "plt.figure(figsize=(12,9))\n",
        "plt.plot(epochs, acc, 'g', label='Training acc')\n",
        "plt.plot(epochs, val_acc, 'b', label='Validation acc')\n",
        "plt.title('Training and validation accuracy', size=20)\n",
        "plt.xlabel('Epochs', size=20)\n",
        "plt.ylabel('Accuracy', size=20)\n",
        "plt.legend(prop={'size': 20})\n",
        "plt.ylim((0.5,1))\n",
        "plt.show()"
      ],
      "execution_count": null,
      "outputs": [
        {
          "output_type": "display_data",
          "data": {
            "text/plain": [
              "<Figure size 864x648 with 1 Axes>"
            ],
            "image/png": "[encoded data removed]"
          },
          "metadata": {}
        },
        {
          "output_type": "display_data",
          "data": {
            "text/plain": [
              "<Figure size 864x648 with 1 Axes>"
            ],
            "image/png": "[encoded data removed]"
          },
          "metadata": {}
        }
      ]
    },
    {
      "metadata": {
        "id": "DGAJjz7-jc1x"
      },
      "cell_type": "markdown",
      "source": [
        "Evaluate the testing set "
      ]
    },
    {
      "metadata": {
        "trusted": true,
        "id": "emnyjHipjc1x",
        "colab": {
          "base_uri": "https://localhost:8080/"
        },
        "outputId": "f8492edc-3ee8-41a3-f091-46dd3c819433"
      },
      "cell_type": "code",
      "source": [
        "model.evaluate(X_test, y_test)"
      ],
      "execution_count": null,
      "outputs": [
        {
          "output_type": "stream",
          "name": "stdout",
          "text": [
            "281/281 [==============================] - 6s 22ms/step - loss: 0.0644 - accuracy: 0.9815\n"
          ]
        },
        {
          "output_type": "execute_result",
          "data": {
            "text/plain": [
              "[0.06440802663564682, 0.9815144538879395]"
            ]
          },
          "metadata": {},
          "execution_count": 47
        }
      ]
    },
    {
      "metadata": {
        "trusted": true,
        "id": "spFSI0Cejc1y",
        "colab": {
          "base_uri": "https://localhost:8080/"
        },
        "outputId": "b5ec979d-9883-4aa9-a522-2f2a29cdbec9"
      },
      "cell_type": "code",
      "source": [
        "pred = model.predict(X_test)\n",
        "\n",
        "binary_predictions = []\n",
        "\n",
        "for i in pred:\n",
        "    if i >= 0.5:\n",
        "        binary_predictions.append(1)\n",
        "    else:\n",
        "        binary_predictions.append(0) "
      ],
      "execution_count": null,
      "outputs": [
        {
          "output_type": "stream",
          "name": "stdout",
          "text": [
            "281/281 [==============================] - 6s 19ms/step\n"
          ]
        }
      ]
    },
    {
      "metadata": {
        "trusted": true,
        "id": "1tgzUPBKjc1y",
        "colab": {
          "base_uri": "https://localhost:8080/"
        },
        "outputId": "b67f4521-0d9f-4ba7-8662-31eb67240098"
      },
      "cell_type": "code",
      "source": [
        "print('Accuracy on testing set:', accuracy_score(binary_predictions, y_test))\n",
        "print('Precision on testing set:', precision_score(binary_predictions, y_test))\n",
        "print('Recall on testing set:', recall_score(binary_predictions, y_test))"
      ],
      "execution_count": null,
      "outputs": [
        {
          "output_type": "stream",
          "name": "stdout",
          "text": [
            "Accuracy on testing set: 0.9815144766146994\n",
            "Precision on testing set: 0.9821676702176934\n",
            "Recall on testing set: 0.979445727482679\n"
          ]
        }
      ]
    },
    {
      "metadata": {
        "id": "za4ED7N4jc1y"
      },
      "cell_type": "markdown",
      "source": [
        "Confusion matrix "
      ]
    },
    {
      "metadata": {
        "trusted": true,
        "id": "rymqqopnjc1y",
        "colab": {
          "base_uri": "https://localhost:8080/",
          "height": 603
        },
        "outputId": "a9f27c3d-d353-4703-8bce-9f36700c36bb"
      },
      "cell_type": "code",
      "source": [
        "matrix = confusion_matrix(binary_predictions, y_test, normalize='all')\n",
        "plt.figure(figsize=(16, 9))\n",
        "ax= plt.subplot()\n",
        "sns.heatmap(matrix, annot=True, ax = ax)\n",
        "\n",
        "# labels, title and ticks\n",
        "ax.set_xlabel('Predicted Labels', size=20)\n",
        "ax.set_ylabel('True Labels', size=20)\n",
        "ax.set_title('Confusion Matrix', size=20) \n",
        "ax.xaxis.set_ticklabels([0,1], size=15)\n",
        "ax.yaxis.set_ticklabels([0,1], size=15)"
      ],
      "execution_count": null,
      "outputs": [
        {
          "output_type": "execute_result",
          "data": {
            "text/plain": [
              "[Text(0, 0.5, '0'), Text(0, 1.5, '1')]"
            ]
          },
          "metadata": {},
          "execution_count": 50
        },
        {
          "output_type": "display_data",
          "data": {
            "text/plain": [
              "<Figure size 1152x648 with 2 Axes>"
            ],
            "image/png": "[encoded data removed]"
          },
          "metadata": {}
        }
      ]
    },
    {
      "metadata": {
        "id": "OzjDIUMKjc1y"
      },
      "cell_type": "markdown",
      "source": [
        "Saves the weights for visualiation"
      ]
    },
    {
      "metadata": {
        "trusted": true,
        "id": "2wU0i2zXjc1y",
        "colab": {
          "base_uri": "https://localhost:8080/"
        },
        "outputId": "c19d071e-7ddf-4c73-a38a-b3acfa515e52"
      },
      "cell_type": "code",
      "source": [
        "e = model.layers[0]\n",
        "weights = e.get_weights()[0]\n",
        "print(weights.shape) # shape: (vocab_size, embedding_dim)"
      ],
      "execution_count": null,
      "outputs": [
        {
          "output_type": "stream",
          "name": "stdout",
          "text": [
            "(10000, 32)\n"
          ]
        }
      ]
    },
    {
      "cell_type": "code",
      "source": [
        "type(x_train_[0])"
      ],
      "metadata": {
        "colab": {
          "base_uri": "https://localhost:8080/"
        },
        "id": "oW853AbUI2O1",
        "outputId": "1db6dab6-7dc3-4298-c3dd-c47b87c6e353"
      },
      "execution_count": null,
      "outputs": [
        {
          "output_type": "execute_result",
          "data": {
            "text/plain": [
              "list"
            ]
          },
          "metadata": {},
          "execution_count": 40
        }
      ]
    },
    {
      "cell_type": "code",
      "source": [
        "model = LogisticRegression()\n",
        "model.fit(x_train_, y_train)\n",
        "preds = model.predict(x_test_)\n",
        "acc = accuracy_score(preds, y_test)\n",
        "prec = precision_score(preds, y_test)\n",
        "rec = recall_score(preds, y_test)\n",
        "print(acc, prec, rec)"
      ],
      "metadata": {
        "colab": {
          "base_uri": "https://localhost:8080/"
        },
        "id": "VZ8JQGdRGPuu",
        "outputId": "df5745a6-bb5f-4404-ba32-0bfe09174091"
      },
      "execution_count": null,
      "outputs": [
        {
          "output_type": "stream",
          "name": "stdout",
          "text": [
            "0.5981069042316258 0.5217693376563224 0.5933631814590467\n"
          ]
        }
      ]
    },
    {
      "cell_type": "code",
      "source": [
        "model = KNeighborsClassifier()\n",
        "model.fit(x_train_, y_train)\n",
        "preds = model.predict(x_test_)\n",
        "acc = accuracy_score(preds, y_test)\n",
        "prec = precision_score(preds, y_test)\n",
        "rec = recall_score(preds, y_test)\n",
        "print(acc, prec, rec)"
      ],
      "metadata": {
        "colab": {
          "base_uri": "https://localhost:8080/"
        },
        "id": "Az-eZwp5J_9i",
        "outputId": "a97b967a-8d57-4d08-ad5e-b4d410f5dfa8"
      },
      "execution_count": null,
      "outputs": [
        {
          "output_type": "stream",
          "name": "stdout",
          "text": [
            "0.5545657015590201 0.7561371005094951 0.5255956213779781\n"
          ]
        }
      ]
    },
    {
      "cell_type": "code",
      "source": [
        "model = AdaBoostClassifier()\n",
        "model.fit(x_train_, y_train)\n",
        "preds = model.predict(x_test_)\n",
        "acc = accuracy_score(preds, y_test)\n",
        "prec = precision_score(preds, y_test)\n",
        "rec = recall_score(preds, y_test)\n",
        "print(acc, prec, rec)"
      ],
      "metadata": {
        "colab": {
          "base_uri": "https://localhost:8080/"
        },
        "id": "0ZbfALbCHMKl",
        "outputId": "42a2206a-51d4-4b96-cf21-5a4bf3333fca"
      },
      "execution_count": null,
      "outputs": [
        {
          "output_type": "stream",
          "name": "stdout",
          "text": [
            "0.7632516703786192 0.7672533580361278 0.7471808750563825\n"
          ]
        }
      ]
    },
    {
      "cell_type": "code",
      "source": [
        "model = RandomForestClassifier()\n",
        "model.fit(x_train_, y_train)\n",
        "preds = model.predict(x_test_)\n",
        "acc = accuracy_score(preds, y_test)\n",
        "prec = precision_score(preds, y_test)\n",
        "rec = recall_score(preds, y_test)\n",
        "print(acc, prec, rec)"
      ],
      "metadata": {
        "colab": {
          "base_uri": "https://localhost:8080/"
        },
        "id": "sgzKh9XQKXyo",
        "outputId": "88a17c32-a793-4c0c-c06f-bc2b7b89ff8d"
      },
      "execution_count": null,
      "outputs": [
        {
          "output_type": "stream",
          "name": "stdout",
          "text": [
            "0.8789532293986637 0.8686892079666513 0.8782486537110747\n"
          ]
        }
      ]
    },
    {
      "cell_type": "code",
      "source": [
        "model = BaggingClassifier()\n",
        "model.fit(x_train_, y_train)\n",
        "preds = model.predict(x_test_)\n",
        "acc = accuracy_score(preds, y_test)\n",
        "prec = precision_score(preds, y_test)\n",
        "rec = recall_score(preds, y_test)\n",
        "print(acc, prec, rec)"
      ],
      "metadata": {
        "colab": {
          "base_uri": "https://localhost:8080/"
        },
        "id": "rA1n6w4bKemC",
        "outputId": "f55669ab-19b1-467d-bbaf-41e46ab7a4fd"
      },
      "execution_count": null,
      "outputs": [
        {
          "output_type": "stream",
          "name": "stdout",
          "text": [
            "0.8910913140311804 0.8557202408522464 0.9123456790123456\n"
          ]
        }
      ]
    }
  ],
  "metadata": {
    "kernelspec": {
      "name": "python3",
      "display_name": "Python 3",
      "language": "python"
    },
    "language_info": {
      "name": "python",
      "version": "3.7.6",
      "mimetype": "text/x-python",
      "codemirror_mode": {
        "name": "ipython",
        "version": 3
      },
      "pygments_lexer": "ipython3",
      "nbconvert_exporter": "python",
      "file_extension": ".py"
    },
    "colab": {
      "provenance": []
    }
  },
  "nbformat": 4,
  "nbformat_minor": 0
}